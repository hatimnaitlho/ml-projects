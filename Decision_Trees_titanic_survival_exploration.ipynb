{
  "nbformat": 4,
  "nbformat_minor": 0,
  "metadata": {
    "kernelspec": {
      "display_name": "Python 3",
      "language": "python",
      "name": "python3"
    },
    "language_info": {
      "codemirror_mode": {
        "name": "ipython",
        "version": 3
      },
      "file_extension": ".py",
      "mimetype": "text/x-python",
      "name": "python",
      "nbconvert_exporter": "python",
      "pygments_lexer": "ipython3",
      "version": "3.6.3"
    },
    "colab": {
      "name": "Decision_Trees_titanic_survival_exploration.ipynb",
      "provenance": [],
      "collapsed_sections": [],
      "include_colab_link": true
    }
  },
  "cells": [
    {
      "cell_type": "markdown",
      "metadata": {
        "id": "view-in-github",
        "colab_type": "text"
      },
      "source": [
        "<a href=\"https://colab.research.google.com/github/hatimnaitlho/ml-sklearn/blob/master/Decision_Trees_titanic_survival_exploration.ipynb\" target=\"_parent\"><img src=\"https://colab.research.google.com/assets/colab-badge.svg\" alt=\"Open In Colab\"/></a>"
      ]
    },
    {
      "cell_type": "markdown",
      "metadata": {
        "id": "wqbsTqroyg3v",
        "colab_type": "text"
      },
      "source": [
        "# Classification: Titanic Survival Prediction Model"
      ]
    },
    {
      "cell_type": "markdown",
      "metadata": {
        "id": "C1B5pno3BwCv",
        "colab_type": "text"
      },
      "source": [
        "The RMS Titanic sank on April 15, 1912, during her maiden voyage, killing 1502 out of 2224 passengers and crew. The shipwreck led to such loss of life as there were not enough lifeboats for the passengers and crew. Although some groups of people were more likely to survive than others, such as women, children, and the upper-class."
      ]
    },
    {
      "cell_type": "markdown",
      "metadata": {
        "id": "sxGvfC0Lyg3x",
        "colab_type": "text"
      },
      "source": [
        "## Goal and scope of the analysis\n",
        "In this notebook, you will implement the following classification models in sklearn and assess there performance:\n",
        "- Decision tree\n",
        "- Support Vector Machine\n",
        "- Ensemble Methods\n",
        "- Logistic Regression\n",
        "\n",
        "\n",
        "Note: Tuning models' hyperparameters is outside the scope of this notebook\n",
        "\n",
        "We'll start by loading the dataset and displaying some of its rows."
      ]
    },
    {
      "cell_type": "markdown",
      "metadata": {
        "id": "beROrwhuCRXK",
        "colab_type": "text"
      },
      "source": [
        "# Getting started"
      ]
    },
    {
      "cell_type": "code",
      "metadata": {
        "id": "jMDBnZTvyg3y",
        "colab_type": "code",
        "colab": {}
      },
      "source": [
        "# Import libraries necessary for this project\n",
        "import numpy as np\n",
        "import pandas as pd\n",
        "\n",
        "\n",
        "# Pretty display for notebooks\n",
        "%matplotlib inline\n",
        "\n",
        "# Set a random seed fot the notebook to be stable\n",
        "import random\n",
        "random.seed(42)\n"
      ],
      "execution_count": 0,
      "outputs": []
    },
    {
      "cell_type": "code",
      "metadata": {
        "id": "VBFj5ln920EH",
        "colab_type": "code",
        "outputId": "baed3386-5f27-489d-a42e-202879a9b2e3",
        "colab": {
          "base_uri": "https://localhost:8080/",
          "height": 124
        }
      },
      "source": [
        "from google.colab import drive\n",
        "drive.mount('/content/drive')"
      ],
      "execution_count": 3,
      "outputs": [
        {
          "output_type": "stream",
          "text": [
            "Go to this URL in a browser: https://accounts.google.com/o/oauth2/auth?client_id=947318989803-6bn6qk8qdgf4n4g3pfee6491hc0brc4i.apps.googleusercontent.com&redirect_uri=urn%3aietf%3awg%3aoauth%3a2.0%3aoob&response_type=code&scope=email%20https%3a%2f%2fwww.googleapis.com%2fauth%2fdocs.test%20https%3a%2f%2fwww.googleapis.com%2fauth%2fdrive%20https%3a%2f%2fwww.googleapis.com%2fauth%2fdrive.photos.readonly%20https%3a%2f%2fwww.googleapis.com%2fauth%2fpeopleapi.readonly\n",
            "\n",
            "Enter your authorization code:\n",
            "··········\n",
            "Mounted at /content/drive\n"
          ],
          "name": "stdout"
        }
      ]
    },
    {
      "cell_type": "code",
      "metadata": {
        "id": "xWiS5gMr3RqB",
        "colab_type": "code",
        "colab": {}
      },
      "source": [
        "path='/content/drive/My Drive/datasets/titanic_data_raw.csv'\n",
        "full_data=pd.read_csv(path)"
      ],
      "execution_count": 0,
      "outputs": []
    },
    {
      "cell_type": "code",
      "metadata": {
        "id": "sDthNogE0WEr",
        "colab_type": "code",
        "outputId": "c7ed5f18-a339-4b52-80af-3b137589f50d",
        "colab": {
          "base_uri": "https://localhost:8080/",
          "height": 35
        }
      },
      "source": [
        "full_data.shape"
      ],
      "execution_count": 97,
      "outputs": [
        {
          "output_type": "execute_result",
          "data": {
            "text/plain": [
              "(891, 12)"
            ]
          },
          "metadata": {
            "tags": []
          },
          "execution_count": 97
        }
      ]
    },
    {
      "cell_type": "code",
      "metadata": {
        "id": "P2WtfuZ-5hTO",
        "colab_type": "code",
        "outputId": "11fc17ae-c22e-4f3c-d9da-88268f1dfde7",
        "colab": {
          "base_uri": "https://localhost:8080/",
          "height": 69
        }
      },
      "source": [
        "full_data.columns"
      ],
      "execution_count": 98,
      "outputs": [
        {
          "output_type": "execute_result",
          "data": {
            "text/plain": [
              "Index(['PassengerId', 'Survived', 'Pclass', 'Name', 'Sex', 'Age', 'SibSp',\n",
              "       'Parch', 'Ticket', 'Fare', 'Cabin', 'Embarked'],\n",
              "      dtype='object')"
            ]
          },
          "metadata": {
            "tags": []
          },
          "execution_count": 98
        }
      ]
    },
    {
      "cell_type": "markdown",
      "metadata": {
        "id": "dEU2i9j8yg34",
        "colab_type": "text"
      },
      "source": [
        "Recall that these are the various features present for each passenger on the ship:\n",
        "- **Survived**: Outcome of survival (0 = No; 1 = Yes)\n",
        "- **Pclass**: Socio-economic class (1 = Upper class; 2 = Middle class; 3 = Lower class)\n",
        "- **Name**: Name of the passenger\n",
        "- **Sex**: Sex of the passenger\n",
        "- **Age**: Age of the passenger (Some entries contain `NaN`)\n",
        "- **SibSp**: Number of siblings and spouses of the passenger aboard\n",
        "- **Parch**: Number of parents and children of the passenger aboard\n",
        "- **Ticket**: Ticket number of the passenger\n",
        "- **Fare**: Fare paid by the passenger\n",
        "- **Cabin**: Cabin number of the passenger (Some entries contain NaN)\n",
        "- **Embarked**: Port of embarkation of the passenger (C = Cherbourg; Q = Queenstown; S = Southampton)\n",
        "\n",
        "Since we're interested in the outcome of survival for each passenger or crew member, we can remove the **Survived** feature from this dataset and store it as its own separate variable `outcomes`. We will use these outcomes as our prediction targets.  \n",
        "Run the code cell below to remove **Survived** as a feature of the dataset and store it in `outcomes`."
      ]
    },
    {
      "cell_type": "code",
      "metadata": {
        "id": "DkvRIn5beJBa",
        "colab_type": "code",
        "outputId": "85f7cf53-225d-47c9-d4ce-d88d3dffa529",
        "colab": {
          "base_uri": "https://localhost:8080/",
          "height": 242
        }
      },
      "source": [
        "# Fill empty and NaNs values with NaN\n",
        "full_data = full_data.fillna(np.nan)\n",
        "\n",
        "# Check for Null values\n",
        "full_data.isnull().sum()"
      ],
      "execution_count": 99,
      "outputs": [
        {
          "output_type": "execute_result",
          "data": {
            "text/plain": [
              "PassengerId      0\n",
              "Survived         0\n",
              "Pclass           0\n",
              "Name             0\n",
              "Sex              0\n",
              "Age            177\n",
              "SibSp            0\n",
              "Parch            0\n",
              "Ticket           0\n",
              "Fare             0\n",
              "Cabin          687\n",
              "Embarked         2\n",
              "dtype: int64"
            ]
          },
          "metadata": {
            "tags": []
          },
          "execution_count": 99
        }
      ]
    },
    {
      "cell_type": "markdown",
      "metadata": {
        "id": "8S-50p737WGh",
        "colab_type": "text"
      },
      "source": [
        "In the Titanic dataset we have missings in the age, cabin and embarked column. We have to perform some data cleansing otherwise we run the risk to have models that produce poor predictions."
      ]
    },
    {
      "cell_type": "markdown",
      "metadata": {
        "id": "xi0Xn139BmxQ",
        "colab_type": "text"
      },
      "source": [
        "# Exploratory Data Analysis"
      ]
    },
    {
      "cell_type": "code",
      "metadata": {
        "id": "EVRATkBNe40Z",
        "colab_type": "code",
        "outputId": "4ecafdc8-419d-4c0b-9739-68c9587fe7df",
        "colab": {
          "base_uri": "https://localhost:8080/",
          "height": 269
        }
      },
      "source": [
        "# Correlation matrix between numerical values: Survived, SibSp Parch Age and Fare values \n",
        "import seaborn as sns\n",
        "g = sns.heatmap(full_data[['Survived','Pclass', 'SibSp','Parch','Age','Fare']].corr(),annot=True, fmt = \".2f\", cmap = \"coolwarm\")"
      ],
      "execution_count": 100,
      "outputs": [
        {
          "output_type": "display_data",
          "data": {
            "image/png": "[encoded data removed]",
            "text/plain": [
              "<Figure size 432x288 with 2 Axes>"
            ]
          },
          "metadata": {
            "tags": [],
            "needs_background": "light"
          }
        }
      ]
    },
    {
      "cell_type": "markdown",
      "metadata": {
        "id": "pgLTbWOdpW5u",
        "colab_type": "text"
      },
      "source": [
        "`Pclass` and `Fare` features have significant correlation with `Survived` feature"
      ]
    },
    {
      "cell_type": "code",
      "metadata": {
        "id": "pDpbguBu0VDI",
        "colab_type": "code",
        "outputId": "c0d6c42c-1d18-449d-9988-5d4878c8f3e8",
        "colab": {
          "base_uri": "https://localhost:8080/",
          "height": 530
        }
      },
      "source": [
        "# Explore Pclass feature vs Survived\n",
        "g = sns.factorplot(x=\"Pclass\",y=\"Survived\",data=full_data,kind=\"bar\", size = 6 , palette = \"muted\")\n",
        "g.despine(left=True)\n",
        "g = g.set_ylabels(\"survival probability\")"
      ],
      "execution_count": 101,
      "outputs": [
        {
          "output_type": "stream",
          "text": [
            "/usr/local/lib/python3.6/dist-packages/seaborn/categorical.py:3666: UserWarning: The `factorplot` function has been renamed to `catplot`. The original name will be removed in a future release. Please update your code. Note that the default `kind` in `factorplot` (`'point'`) has changed `'strip'` in `catplot`.\n",
            "  warnings.warn(msg)\n",
            "/usr/local/lib/python3.6/dist-packages/seaborn/categorical.py:3672: UserWarning: The `size` parameter has been renamed to `height`; please update your code.\n",
            "  warnings.warn(msg, UserWarning)\n"
          ],
          "name": "stderr"
        },
        {
          "output_type": "display_data",
          "data": {
            "image/png": "[encoded data removed]",
            "text/plain": [
              "<Figure size 432x432 with 1 Axes>"
            ]
          },
          "metadata": {
            "tags": [],
            "needs_background": "light"
          }
        }
      ]
    },
    {
      "cell_type": "markdown",
      "metadata": {
        "id": "xMWLfyo40qCH",
        "colab_type": "text"
      },
      "source": [
        "Recall what Pclass features is about the Socio-economic class \n",
        "- 1 = Upper class \n",
        "- 2 = Middle class \n",
        "- 3 = Lower class\n",
        "\n",
        "Passengers in the upper class three times of chances to survive as passengers in the lower class."
      ]
    },
    {
      "cell_type": "markdown",
      "metadata": {
        "id": "W85UxDSa9W89",
        "colab_type": "text"
      },
      "source": [
        "# Imputation of Missing Data/ Outliers\n",
        "We don´t want to delete all rows with missing values, therefore we will replace the missings when pertinent. \n",
        "\n",
        "## Age\n",
        "We will visualize distribution of some features against age to identify some patterns that may help us fill the missing value.\n",
        "As we can see, Age column contains 177 missing values in the titanic dataset.\n",
        "\n",
        "Since there is subpopulations that have more chance to survive (children for example), it is preferable to keep the age feature and to impute the missing values.\n",
        "\n",
        "To adress this problem, we have to focus on the most correlated features with Age:\n",
        "- Parch , Pclass and SibSP."
      ]
    },
    {
      "cell_type": "code",
      "metadata": {
        "id": "JAer0XeopieG",
        "colab_type": "code",
        "outputId": "18eb6d54-d3d4-4b27-88f1-c422ed56dd9b",
        "colab": {
          "base_uri": "https://localhost:8080/",
          "height": 225
        }
      },
      "source": [
        "# Explore Age vs Survived\n",
        "g = sns.FacetGrid(full_data, col='Survived')\n",
        "g = g.map(sns.distplot, \"Age\")"
      ],
      "execution_count": 102,
      "outputs": [
        {
          "output_type": "display_data",
          "data": {
            "image/png": "[encoded data removed]",
            "text/plain": [
              "<Figure size 432x216 with 2 Axes>"
            ]
          },
          "metadata": {
            "tags": [],
            "needs_background": "light"
          }
        }
      ]
    },
    {
      "cell_type": "code",
      "metadata": {
        "id": "9VeCUjXbxTD6",
        "colab_type": "code",
        "outputId": "166224b2-eff9-4913-caf0-bc3511f3ad6c",
        "colab": {
          "base_uri": "https://localhost:8080/",
          "height": 173
        }
      },
      "source": [
        "print('Median for \"Age\" grouped by \"Pclass\" and \"Sex\": ')\n",
        "full_data.groupby(['Pclass', 'Sex'])['Age'].median()"
      ],
      "execution_count": 103,
      "outputs": [
        {
          "output_type": "stream",
          "text": [
            "Median for \"Age\" grouped by \"Pclass\" and \"Sex\": \n"
          ],
          "name": "stdout"
        },
        {
          "output_type": "execute_result",
          "data": {
            "text/plain": [
              "Pclass  Sex   \n",
              "1       female    35.0\n",
              "        male      40.0\n",
              "2       female    28.0\n",
              "        male      30.0\n",
              "3       female    21.5\n",
              "        male      25.0\n",
              "Name: Age, dtype: float64"
            ]
          },
          "metadata": {
            "tags": []
          },
          "execution_count": 103
        }
      ]
    },
    {
      "cell_type": "markdown",
      "metadata": {
        "id": "u9f9lIV4yR3a",
        "colab_type": "text"
      },
      "source": [
        "Now, let's replace the missing values by the median of each group."
      ]
    },
    {
      "cell_type": "code",
      "metadata": {
        "id": "eklh58rAyiwh",
        "colab_type": "code",
        "colab": {}
      },
      "source": [
        "full_data['Age']= full_data.groupby(['Pclass', 'Sex'])['Age'].apply(lambda x: x.fillna(x.median()))"
      ],
      "execution_count": 0,
      "outputs": []
    },
    {
      "cell_type": "markdown",
      "metadata": {
        "id": "_667qhcT08-P",
        "colab_type": "text"
      },
      "source": [
        "## Cabin\n",
        "We can ignore the feature cabin for two reasons:\n",
        "- 687 of records are missing, which represents 77% of the global values of this feature. \n",
        "- cabins and 'Pclass' feature are strongly linked\n",
        "Thus we will simply remove the column 'Cabin'"
      ]
    },
    {
      "cell_type": "code",
      "metadata": {
        "id": "5yFZgHkc720h",
        "colab_type": "code",
        "colab": {}
      },
      "source": [
        "full_data.drop(columns='Cabin', inplace= True)"
      ],
      "execution_count": 0,
      "outputs": []
    },
    {
      "cell_type": "markdown",
      "metadata": {
        "id": "5td1rCOa8EVg",
        "colab_type": "text"
      },
      "source": [
        "## Embarked\n",
        "\n",
        "We have two missing values in the 'Embarked' feature. We will replace them by the median."
      ]
    },
    {
      "cell_type": "code",
      "metadata": {
        "id": "bGtq48OH8YWK",
        "colab_type": "code",
        "outputId": "01eb9c5f-eb59-4dff-e2eb-238fc80b496a",
        "colab": {
          "base_uri": "https://localhost:8080/",
          "height": 108
        }
      },
      "source": [
        "full_data.loc[full_data['Embarked'].isnull()]"
      ],
      "execution_count": 106,
      "outputs": [
        {
          "output_type": "execute_result",
          "data": {
            "text/html": [
              "<div>\n",
              "<style scoped>\n",
              "    .dataframe tbody tr th:only-of-type {\n",
              "        vertical-align: middle;\n",
              "    }\n",
              "\n",
              "    .dataframe tbody tr th {\n",
              "        vertical-align: top;\n",
              "    }\n",
              "\n",
              "    .dataframe thead th {\n",
              "        text-align: right;\n",
              "    }\n",
              "</style>\n",
              "<table border=\"1\" class=\"dataframe\">\n",
              "  <thead>\n",
              "    <tr style=\"text-align: right;\">\n",
              "      <th></th>\n",
              "      <th>PassengerId</th>\n",
              "      <th>Survived</th>\n",
              "      <th>Pclass</th>\n",
              "      <th>Name</th>\n",
              "      <th>Sex</th>\n",
              "      <th>Age</th>\n",
              "      <th>SibSp</th>\n",
              "      <th>Parch</th>\n",
              "      <th>Ticket</th>\n",
              "      <th>Fare</th>\n",
              "      <th>Embarked</th>\n",
              "    </tr>\n",
              "  </thead>\n",
              "  <tbody>\n",
              "    <tr>\n",
              "      <th>61</th>\n",
              "      <td>62</td>\n",
              "      <td>1</td>\n",
              "      <td>1</td>\n",
              "      <td>Icard, Miss. Amelie</td>\n",
              "      <td>female</td>\n",
              "      <td>38.0</td>\n",
              "      <td>0</td>\n",
              "      <td>0</td>\n",
              "      <td>113572</td>\n",
              "      <td>80.0</td>\n",
              "      <td>NaN</td>\n",
              "    </tr>\n",
              "    <tr>\n",
              "      <th>829</th>\n",
              "      <td>830</td>\n",
              "      <td>1</td>\n",
              "      <td>1</td>\n",
              "      <td>Stone, Mrs. George Nelson (Martha Evelyn)</td>\n",
              "      <td>female</td>\n",
              "      <td>62.0</td>\n",
              "      <td>0</td>\n",
              "      <td>0</td>\n",
              "      <td>113572</td>\n",
              "      <td>80.0</td>\n",
              "      <td>NaN</td>\n",
              "    </tr>\n",
              "  </tbody>\n",
              "</table>\n",
              "</div>"
            ],
            "text/plain": [
              "     PassengerId  Survived  Pclass  ...  Ticket  Fare  Embarked\n",
              "61            62         1       1  ...  113572  80.0       NaN\n",
              "829          830         1       1  ...  113572  80.0       NaN\n",
              "\n",
              "[2 rows x 11 columns]"
            ]
          },
          "metadata": {
            "tags": []
          },
          "execution_count": 106
        }
      ]
    },
    {
      "cell_type": "code",
      "metadata": {
        "id": "6zc33Jeq-FyJ",
        "colab_type": "code",
        "outputId": "8db83323-49f9-4e1d-950c-3bd0274e8fb2",
        "colab": {
          "base_uri": "https://localhost:8080/",
          "height": 168
        }
      },
      "source": [
        "full_data.groupby(['Embarked']).count()"
      ],
      "execution_count": 107,
      "outputs": [
        {
          "output_type": "execute_result",
          "data": {
            "text/html": [
              "<div>\n",
              "<style scoped>\n",
              "    .dataframe tbody tr th:only-of-type {\n",
              "        vertical-align: middle;\n",
              "    }\n",
              "\n",
              "    .dataframe tbody tr th {\n",
              "        vertical-align: top;\n",
              "    }\n",
              "\n",
              "    .dataframe thead th {\n",
              "        text-align: right;\n",
              "    }\n",
              "</style>\n",
              "<table border=\"1\" class=\"dataframe\">\n",
              "  <thead>\n",
              "    <tr style=\"text-align: right;\">\n",
              "      <th></th>\n",
              "      <th>PassengerId</th>\n",
              "      <th>Survived</th>\n",
              "      <th>Pclass</th>\n",
              "      <th>Name</th>\n",
              "      <th>Sex</th>\n",
              "      <th>Age</th>\n",
              "      <th>SibSp</th>\n",
              "      <th>Parch</th>\n",
              "      <th>Ticket</th>\n",
              "      <th>Fare</th>\n",
              "    </tr>\n",
              "    <tr>\n",
              "      <th>Embarked</th>\n",
              "      <th></th>\n",
              "      <th></th>\n",
              "      <th></th>\n",
              "      <th></th>\n",
              "      <th></th>\n",
              "      <th></th>\n",
              "      <th></th>\n",
              "      <th></th>\n",
              "      <th></th>\n",
              "      <th></th>\n",
              "    </tr>\n",
              "  </thead>\n",
              "  <tbody>\n",
              "    <tr>\n",
              "      <th>C</th>\n",
              "      <td>168</td>\n",
              "      <td>168</td>\n",
              "      <td>168</td>\n",
              "      <td>168</td>\n",
              "      <td>168</td>\n",
              "      <td>168</td>\n",
              "      <td>168</td>\n",
              "      <td>168</td>\n",
              "      <td>168</td>\n",
              "      <td>168</td>\n",
              "    </tr>\n",
              "    <tr>\n",
              "      <th>Q</th>\n",
              "      <td>77</td>\n",
              "      <td>77</td>\n",
              "      <td>77</td>\n",
              "      <td>77</td>\n",
              "      <td>77</td>\n",
              "      <td>77</td>\n",
              "      <td>77</td>\n",
              "      <td>77</td>\n",
              "      <td>77</td>\n",
              "      <td>77</td>\n",
              "    </tr>\n",
              "    <tr>\n",
              "      <th>S</th>\n",
              "      <td>644</td>\n",
              "      <td>644</td>\n",
              "      <td>644</td>\n",
              "      <td>644</td>\n",
              "      <td>644</td>\n",
              "      <td>644</td>\n",
              "      <td>644</td>\n",
              "      <td>644</td>\n",
              "      <td>644</td>\n",
              "      <td>644</td>\n",
              "    </tr>\n",
              "  </tbody>\n",
              "</table>\n",
              "</div>"
            ],
            "text/plain": [
              "          PassengerId  Survived  Pclass  Name  ...  SibSp  Parch  Ticket  Fare\n",
              "Embarked                                       ...                            \n",
              "C                 168       168     168   168  ...    168    168     168   168\n",
              "Q                  77        77      77    77  ...     77     77      77    77\n",
              "S                 644       644     644   644  ...    644    644     644   644\n",
              "\n",
              "[3 rows x 10 columns]"
            ]
          },
          "metadata": {
            "tags": []
          },
          "execution_count": 107
        }
      ]
    },
    {
      "cell_type": "code",
      "metadata": {
        "id": "jmhbDej4-lY1",
        "colab_type": "code",
        "colab": {}
      },
      "source": [
        "full_data.iloc[61,10]= 'S'\n",
        "full_data.iloc[829,10]= 'S'"
      ],
      "execution_count": 0,
      "outputs": []
    },
    {
      "cell_type": "code",
      "metadata": {
        "id": "FNOokkAV80km",
        "colab_type": "code",
        "outputId": "e379668a-7b4e-43b9-8bb1-534fb0b824d8",
        "colab": {
          "base_uri": "https://localhost:8080/",
          "height": 225
        }
      },
      "source": [
        "full_data.isnull().sum() "
      ],
      "execution_count": 109,
      "outputs": [
        {
          "output_type": "execute_result",
          "data": {
            "text/plain": [
              "PassengerId    0\n",
              "Survived       0\n",
              "Pclass         0\n",
              "Name           0\n",
              "Sex            0\n",
              "Age            0\n",
              "SibSp          0\n",
              "Parch          0\n",
              "Ticket         0\n",
              "Fare           0\n",
              "Embarked       0\n",
              "dtype: int64"
            ]
          },
          "metadata": {
            "tags": []
          },
          "execution_count": 109
        }
      ]
    },
    {
      "cell_type": "markdown",
      "metadata": {
        "id": "8aO7F6t8_-BH",
        "colab_type": "text"
      },
      "source": [
        "Now, we have filled all missing data. So we can go further on this project."
      ]
    },
    {
      "cell_type": "markdown",
      "metadata": {
        "id": "uUvOY08hANiP",
        "colab_type": "text"
      },
      "source": [
        "# Data Transformation and Features Engineering"
      ]
    },
    {
      "cell_type": "code",
      "metadata": {
        "id": "Zjw2C6Pbyg34",
        "colab_type": "code",
        "outputId": "994af527-53be-4139-f500-ddabb1e18850",
        "colab": {
          "base_uri": "https://localhost:8080/",
          "height": 250
        }
      },
      "source": [
        "# Store the 'Survived' feature in a new variable and remove it from the dataset\n",
        "outcomes = full_data['Survived']\n",
        "features = full_data.drop('Survived', axis = 1)\n",
        "\n",
        "# Show the new dataset with 'Survived' removed\n",
        "print(features.shape)\n",
        "features.head()"
      ],
      "execution_count": 17,
      "outputs": [
        {
          "output_type": "stream",
          "text": [
            "(891, 11)\n"
          ],
          "name": "stdout"
        },
        {
          "output_type": "execute_result",
          "data": {
            "text/html": [
              "<div>\n",
              "<style scoped>\n",
              "    .dataframe tbody tr th:only-of-type {\n",
              "        vertical-align: middle;\n",
              "    }\n",
              "\n",
              "    .dataframe tbody tr th {\n",
              "        vertical-align: top;\n",
              "    }\n",
              "\n",
              "    .dataframe thead th {\n",
              "        text-align: right;\n",
              "    }\n",
              "</style>\n",
              "<table border=\"1\" class=\"dataframe\">\n",
              "  <thead>\n",
              "    <tr style=\"text-align: right;\">\n",
              "      <th></th>\n",
              "      <th>PassengerId</th>\n",
              "      <th>Pclass</th>\n",
              "      <th>Name</th>\n",
              "      <th>Sex</th>\n",
              "      <th>Age</th>\n",
              "      <th>SibSp</th>\n",
              "      <th>Parch</th>\n",
              "      <th>Ticket</th>\n",
              "      <th>Fare</th>\n",
              "      <th>Cabin</th>\n",
              "      <th>Embarked</th>\n",
              "    </tr>\n",
              "  </thead>\n",
              "  <tbody>\n",
              "    <tr>\n",
              "      <th>0</th>\n",
              "      <td>1</td>\n",
              "      <td>3</td>\n",
              "      <td>Braund, Mr. Owen Harris</td>\n",
              "      <td>male</td>\n",
              "      <td>22.0</td>\n",
              "      <td>1</td>\n",
              "      <td>0</td>\n",
              "      <td>A/5 21171</td>\n",
              "      <td>7.2500</td>\n",
              "      <td>NaN</td>\n",
              "      <td>S</td>\n",
              "    </tr>\n",
              "    <tr>\n",
              "      <th>1</th>\n",
              "      <td>2</td>\n",
              "      <td>1</td>\n",
              "      <td>Cumings, Mrs. John Bradley (Florence Briggs Th...</td>\n",
              "      <td>female</td>\n",
              "      <td>38.0</td>\n",
              "      <td>1</td>\n",
              "      <td>0</td>\n",
              "      <td>PC 17599</td>\n",
              "      <td>71.2833</td>\n",
              "      <td>C85</td>\n",
              "      <td>C</td>\n",
              "    </tr>\n",
              "    <tr>\n",
              "      <th>2</th>\n",
              "      <td>3</td>\n",
              "      <td>3</td>\n",
              "      <td>Heikkinen, Miss. Laina</td>\n",
              "      <td>female</td>\n",
              "      <td>26.0</td>\n",
              "      <td>0</td>\n",
              "      <td>0</td>\n",
              "      <td>STON/O2. 3101282</td>\n",
              "      <td>7.9250</td>\n",
              "      <td>NaN</td>\n",
              "      <td>S</td>\n",
              "    </tr>\n",
              "    <tr>\n",
              "      <th>3</th>\n",
              "      <td>4</td>\n",
              "      <td>1</td>\n",
              "      <td>Futrelle, Mrs. Jacques Heath (Lily May Peel)</td>\n",
              "      <td>female</td>\n",
              "      <td>35.0</td>\n",
              "      <td>1</td>\n",
              "      <td>0</td>\n",
              "      <td>113803</td>\n",
              "      <td>53.1000</td>\n",
              "      <td>C123</td>\n",
              "      <td>S</td>\n",
              "    </tr>\n",
              "    <tr>\n",
              "      <th>4</th>\n",
              "      <td>5</td>\n",
              "      <td>3</td>\n",
              "      <td>Allen, Mr. William Henry</td>\n",
              "      <td>male</td>\n",
              "      <td>35.0</td>\n",
              "      <td>0</td>\n",
              "      <td>0</td>\n",
              "      <td>373450</td>\n",
              "      <td>8.0500</td>\n",
              "      <td>NaN</td>\n",
              "      <td>S</td>\n",
              "    </tr>\n",
              "  </tbody>\n",
              "</table>\n",
              "</div>"
            ],
            "text/plain": [
              "   PassengerId  Pclass  ... Cabin Embarked\n",
              "0            1       3  ...   NaN        S\n",
              "1            2       1  ...   C85        C\n",
              "2            3       3  ...   NaN        S\n",
              "3            4       1  ...  C123        S\n",
              "4            5       3  ...   NaN        S\n",
              "\n",
              "[5 rows x 11 columns]"
            ]
          },
          "metadata": {
            "tags": []
          },
          "execution_count": 17
        }
      ]
    },
    {
      "cell_type": "markdown",
      "metadata": {
        "id": "QSJJY6puyg39",
        "colab_type": "text"
      },
      "source": [
        "#### One-hot encoding\n",
        "\n",
        "Now, let's do some data preprocessing. First, we'll one-hot encode the features."
      ]
    },
    {
      "cell_type": "code",
      "metadata": {
        "id": "9QfLe3YNyg3-",
        "colab_type": "code",
        "outputId": "045741cf-787d-4782-f71d-c2fd7f98cbb0",
        "colab": {
          "base_uri": "https://localhost:8080/",
          "height": 35
        }
      },
      "source": [
        "features_encod = pd.get_dummies(features)\n",
        "print(features_encod.shape)"
      ],
      "execution_count": 18,
      "outputs": [
        {
          "output_type": "stream",
          "text": [
            "(891, 1730)\n"
          ],
          "name": "stdout"
        }
      ]
    },
    {
      "cell_type": "markdown",
      "metadata": {
        "id": "3ktRvCV_CzT1",
        "colab_type": "text"
      },
      "source": [
        "### Scaling data\n"
      ]
    },
    {
      "cell_type": "code",
      "metadata": {
        "id": "BInay40qC4By",
        "colab_type": "code",
        "colab": {}
      },
      "source": [
        "from sklearn.preprocessing import StandardScaler\n",
        "\n",
        "scaler = StandardScaler()\n",
        "X= features_encod\n",
        "y= outcomes\n",
        "\n",
        "# scale and standarize data \n",
        "X_std= scaler.fit_transform(X)\n"
      ],
      "execution_count": 0,
      "outputs": []
    },
    {
      "cell_type": "markdown",
      "metadata": {
        "id": "nXnQcss6yg4G",
        "colab_type": "text"
      },
      "source": [
        "# Model Building\n",
        "\n",
        "Now we're ready to train models in sklearn using the transformed dataset. However, let's first, calculate the probability of random predictions that a passenger survived.\n",
        "\n",
        "This probability is important because, it allow us to assess the performance of our models."
      ]
    },
    {
      "cell_type": "code",
      "metadata": {
        "id": "aZipAjQpbm8i",
        "colab_type": "code",
        "colab": {
          "base_uri": "https://localhost:8080/",
          "height": 35
        },
        "outputId": "9b046859-c4c1-430a-b8d0-443d97aac249"
      },
      "source": [
        "# calculates the probability of a random prediction model\n",
        "survivor_count= outcomes.value_counts()\n",
        "p= survivor_count[1]/(survivor_count[0]+ survivor_count[1])\n",
        "round(p,4)"
      ],
      "execution_count": 54,
      "outputs": [
        {
          "output_type": "execute_result",
          "data": {
            "text/plain": [
              "0.3838"
            ]
          },
          "metadata": {
            "tags": []
          },
          "execution_count": 54
        }
      ]
    },
    {
      "cell_type": "markdown",
      "metadata": {
        "id": "CnqbPkcbd-6N",
        "colab_type": "text"
      },
      "source": [
        "The accuracy of a model that produces random predictions about Titanic survivors is equal to 38.38%. Which is very low.\n",
        "\n",
        "This step is very important, because accuracy is not an absolute value, and we have to look to random prediction to see if our model performs well."
      ]
    },
    {
      "cell_type": "markdown",
      "metadata": {
        "id": "bA-Ql2g8CdwB",
        "colab_type": "text"
      },
      "source": [
        "## Training and assessing the models"
      ]
    },
    {
      "cell_type": "code",
      "metadata": {
        "id": "UvXUZTl9V9hj",
        "colab_type": "code",
        "colab": {
          "base_uri": "https://localhost:8080/",
          "height": 258
        },
        "outputId": "af9f044b-369a-43b1-99d4-8e4ca3d95d18"
      },
      "source": [
        "from sklearn.linear_model import LogisticRegression\n",
        "from sklearn.svm import SVC\n",
        "from sklearn.tree import DecisionTreeClassifier\n",
        "from sklearn.neighbors import KNeighborsClassifier\n",
        "from sklearn.ensemble import RandomForestClassifier \n",
        "from sklearn.ensemble import AdaBoostClassifier\n",
        "from sklearn.ensemble import BaggingClassifier\n",
        "from sklearn.ensemble import ExtraTreesClassifier\n",
        "\n",
        "from sklearn.model_selection import train_test_split\n",
        "from sklearn.preprocessing import StandardScaler\n",
        "\n",
        "from sklearn.metrics import f1_score\n",
        "\n",
        "classifiers= [LogisticRegression(), DecisionTreeClassifier(), RandomForestClassifier(), \n",
        "              AdaBoostClassifier(), KNeighborsClassifier(3), BaggingClassifier(), ExtraTreesClassifier() ]\n",
        "\n",
        "\n",
        "\n",
        "l1, l2, l3 =([] for i in range(3))\n",
        "\n",
        "metrics_dict = {}\n",
        "\n",
        "\n",
        "# split data on training and test sets\n",
        "X_train, X_test, y_train, y_test = train_test_split(X_std, outcomes, test_size=0.15, random_state=42)\n",
        "\n",
        "\n",
        "for clf in classifiers:\n",
        "  clf.fit(X_train, y_train)\n",
        "  clf.predict(X_test)\n",
        "  name= clf.__class__.__name__\n",
        "  l1.append(name)\n",
        "  metrics_dict['model']= l1\n",
        "  l2.append(f1_score(y_test, clf.predict(X_test)))\n",
        "  metrics_dict['f1_score']= l2\n",
        "  l3.append(accuracy_score(y_test, clf.predict(X_test)))\n",
        "  metrics_dict['accuracy_score'] = l3\n",
        "\n",
        "\n",
        "df = pd.DataFrame(metrics_dict)\n",
        "df\n"
      ],
      "execution_count": 114,
      "outputs": [
        {
          "output_type": "execute_result",
          "data": {
            "text/html": [
              "<div>\n",
              "<style scoped>\n",
              "    .dataframe tbody tr th:only-of-type {\n",
              "        vertical-align: middle;\n",
              "    }\n",
              "\n",
              "    .dataframe tbody tr th {\n",
              "        vertical-align: top;\n",
              "    }\n",
              "\n",
              "    .dataframe thead th {\n",
              "        text-align: right;\n",
              "    }\n",
              "</style>\n",
              "<table border=\"1\" class=\"dataframe\">\n",
              "  <thead>\n",
              "    <tr style=\"text-align: right;\">\n",
              "      <th></th>\n",
              "      <th>model</th>\n",
              "      <th>f1_score</th>\n",
              "      <th>accuracy_score</th>\n",
              "    </tr>\n",
              "  </thead>\n",
              "  <tbody>\n",
              "    <tr>\n",
              "      <th>0</th>\n",
              "      <td>LogisticRegression</td>\n",
              "      <td>0.681319</td>\n",
              "      <td>0.783582</td>\n",
              "    </tr>\n",
              "    <tr>\n",
              "      <th>1</th>\n",
              "      <td>DecisionTreeClassifier</td>\n",
              "      <td>0.740000</td>\n",
              "      <td>0.805970</td>\n",
              "    </tr>\n",
              "    <tr>\n",
              "      <th>2</th>\n",
              "      <td>RandomForestClassifier</td>\n",
              "      <td>0.776699</td>\n",
              "      <td>0.828358</td>\n",
              "    </tr>\n",
              "    <tr>\n",
              "      <th>3</th>\n",
              "      <td>AdaBoostClassifier</td>\n",
              "      <td>0.750000</td>\n",
              "      <td>0.805970</td>\n",
              "    </tr>\n",
              "    <tr>\n",
              "      <th>4</th>\n",
              "      <td>KNeighborsClassifier</td>\n",
              "      <td>0.595238</td>\n",
              "      <td>0.492537</td>\n",
              "    </tr>\n",
              "    <tr>\n",
              "      <th>5</th>\n",
              "      <td>BaggingClassifier</td>\n",
              "      <td>0.784314</td>\n",
              "      <td>0.835821</td>\n",
              "    </tr>\n",
              "    <tr>\n",
              "      <th>6</th>\n",
              "      <td>ExtraTreesClassifier</td>\n",
              "      <td>0.769231</td>\n",
              "      <td>0.820896</td>\n",
              "    </tr>\n",
              "  </tbody>\n",
              "</table>\n",
              "</div>"
            ],
            "text/plain": [
              "                    model  f1_score  accuracy_score\n",
              "0      LogisticRegression  0.681319        0.783582\n",
              "1  DecisionTreeClassifier  0.740000        0.805970\n",
              "2  RandomForestClassifier  0.776699        0.828358\n",
              "3      AdaBoostClassifier  0.750000        0.805970\n",
              "4    KNeighborsClassifier  0.595238        0.492537\n",
              "5       BaggingClassifier  0.784314        0.835821\n",
              "6    ExtraTreesClassifier  0.769231        0.820896"
            ]
          },
          "metadata": {
            "tags": []
          },
          "execution_count": 114
        }
      ]
    },
    {
      "cell_type": "markdown",
      "metadata": {
        "id": "vp6GQ4ls4Uok",
        "colab_type": "text"
      },
      "source": [
        "Recall that the random model had an accuracy of 0.3838. So, all the models we used performs very well campared to it. \n",
        "\n",
        "F1 Score which is the weighted average of Precision and Recall provide us additional information about how each model performs.\n",
        "\n",
        "In practice, this is the first stage in building models that performs well and don't suffer from overfitting (or underfitting). Thus, we can choose the best models (RandomForestClassifier, ExtraTreesClassifier, BaggingClassifier) and tune their respective hyper-parameters to produce most accurate predictions using some advanced machine learning techniques."
      ]
    },
    {
      "cell_type": "code",
      "metadata": {
        "id": "1hV_P52B_4s5",
        "colab_type": "code",
        "colab": {}
      },
      "source": [
        ""
      ],
      "execution_count": 0,
      "outputs": []
    }
  ]
}